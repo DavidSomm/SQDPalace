{
 "cells": [
  {
   "attachments": {},
   "cell_type": "markdown",
   "metadata": {},
   "source": [
    "## Improvements/to-do\n",
    "\n",
    "- slightly change dimensions to account for 0.5um over-etch during fabrication\n",
    "- ANSYS simulation hfss renderer\n",
    "- try write RF simulation module for COMSOL"
   ]
  },
  {
   "cell_type": "code",
   "execution_count": 1,
   "metadata": {},
   "outputs": [],
   "source": [
    "# set Jupyter autoreload\n",
    "%load_ext autoreload\n",
    "%autoreload 2"
   ]
  },
  {
   "cell_type": "code",
   "execution_count": 2,
   "metadata": {},
   "outputs": [],
   "source": [
    "# import qiskit\n",
    "from qiskit_metal import designs\n",
    "from qiskit_metal import MetalGUI, Dict\n",
    "\n",
    "# import components needed for CPW meander and launchpads\n",
    "from qiskit_metal.qlibrary.terminations.open_to_ground import OpenToGround\n",
    "from qiskit_metal.qlibrary.tlines.meandered import RouteMeander\n",
    "from qiskit_metal.qlibrary.tlines.anchored_path import RouteAnchors\n",
    "from qiskit_metal.qlibrary.terminations.launchpad_wb import LaunchpadWirebond\n",
    "\n",
    "# for simulation\n",
    "import pyEPR as epr\n",
    "import numpy as np"
   ]
  },
  {
   "attachments": {},
   "cell_type": "markdown",
   "metadata": {},
   "source": [
    "# chip design\n",
    "\n",
    "https://qiskit.org/documentation/metal/circuit-examples/full-design-flow-examples/Example-full-chip-design.html"
   ]
  },
  {
   "cell_type": "code",
   "execution_count": 3,
   "metadata": {},
   "outputs": [
    {
     "data": {
      "text/html": [
       "\n",
       "    <h1 style=\"\n",
       "        background: #12c2e9;  /* fallback for old browsers */\n",
       "        background: -webkit-linear-gradient(to right, #d4418e 0%, #0652c5 74%);  /* Chrome 10-25, Safari 5.1-6 */\n",
       "        background: linear-gradient(315deg, #d4418e 0%, #0652c5 74%); /* W3C, IE 10+/ Edge, Firefox 16+, Chrome 26+, Opera 12+, Safari 7+ */\n",
       "        margin-top: 50px;\n",
       "        border-style: outset;\n",
       "        padding-top:100px;\n",
       "        padding-bottom:50px;\n",
       "        padding-left:25px;\n",
       "        color: white;\n",
       "    \"> Chip setup <h1>\n",
       "        "
      ],
      "text/plain": [
       "<IPython.core.display.HTML object>"
      ]
     },
     "metadata": {},
     "output_type": "display_data"
    }
   ],
   "source": [
    "%metal_heading Chip setup"
   ]
  },
  {
   "cell_type": "code",
   "execution_count": 4,
   "metadata": {},
   "outputs": [],
   "source": [
    "# gap and width dimensions\n",
    "width = '10um'\n",
    "gap = '4.667um'\n",
    "substrate_thickness = '-0.53mm'\n",
    "\n",
    "# chip dimensions\n",
    "chip_x = '7mm'\n",
    "chip_y = '4mm'"
   ]
  },
  {
   "cell_type": "code",
   "execution_count": 5,
   "metadata": {},
   "outputs": [],
   "source": [
    "# Each time you create a new quantum circuit design you start by instantiating a QDesign class.\n",
    "\n",
    "# The design class `DesignPlanar` is best for 2D circuit designs.\n",
    "design = designs.DesignPlanar(metadata={}, overwrite_enabled=True, enable_renderers=True)\n",
    "design.delete_all_components()"
   ]
  },
  {
   "cell_type": "code",
   "execution_count": 6,
   "metadata": {},
   "outputs": [],
   "source": [
    "# set chip dimension and material\n",
    "design.chips.main.size.size_x = chip_x\n",
    "design.chips.main.size.size_y = chip_y\n",
    "design.chips.main.size.size_z = substrate_thickness\n",
    "design.chips.main.material = ['sapphire']\n",
    "\n",
    "# enact\n",
    "design.chips.main\n",
    "\n",
    "#create gui\n",
    "gui = MetalGUI(design)"
   ]
  },
  {
   "cell_type": "code",
   "execution_count": 7,
   "metadata": {},
   "outputs": [],
   "source": [
    "# setup gds export\n",
    "#full_chip_gds = design.renderers.gds\n",
    "\n",
    "# show options\n",
    "#full_chip_gds.options\n",
    "\n",
    "# set path to 'resources' folder\n",
    "#full_chip_gds.options['path_filename'] = '/Users/uqzdegna/Qiskit/qiskit-metal/tutorials/resources/Fake_Junctions.GDS'"
   ]
  },
  {
   "cell_type": "code",
   "execution_count": 8,
   "metadata": {},
   "outputs": [
    {
     "data": {
      "text/html": [
       "\n",
       "    <h1 style=\"\n",
       "        background: #12c2e9;  /* fallback for old browsers */\n",
       "        background: -webkit-linear-gradient(to right, #d4418e 0%, #0652c5 74%);  /* Chrome 10-25, Safari 5.1-6 */\n",
       "        background: linear-gradient(315deg, #d4418e 0%, #0652c5 74%); /* W3C, IE 10+/ Edge, Firefox 16+, Chrome 26+, Opera 12+, Safari 7+ */\n",
       "        margin-top: 50px;\n",
       "        border-style: outset;\n",
       "        padding-top:100px;\n",
       "        padding-bottom:50px;\n",
       "        padding-left:25px;\n",
       "        color: white;\n",
       "    \"> Launchpads <h1>\n",
       "        "
      ],
      "text/plain": [
       "<IPython.core.display.HTML object>"
      ]
     },
     "metadata": {},
     "output_type": "display_data"
    }
   ],
   "source": [
    "%metal_heading Launchpads"
   ]
  },
  {
   "cell_type": "code",
   "execution_count": 9,
   "metadata": {},
   "outputs": [],
   "source": [
    "# set launchpad options\n",
    "lp_L_options = Dict(\n",
    "    pos_x = '-2500um',\n",
    "    pos_y = '0um',\n",
    "    pad_width = '400um',\n",
    "    pad_height = '400um',\n",
    "    pad_gap = '186.66um',\n",
    "    trace_width=width,\n",
    "    trace_gap=gap\n",
    ")\n",
    "\n",
    "lp_R_options = Dict(\n",
    "    pos_x = '2500um',\n",
    "    pos_y = '0um',\n",
    "    orientation = '-180',\n",
    "    pad_width = '400um',\n",
    "    pad_height = '400um',\n",
    "    pad_gap = '186.66um',\n",
    "    trace_width=width,\n",
    "    trace_gap=gap\n",
    ")"
   ]
  },
  {
   "cell_type": "code",
   "execution_count": 10,
   "metadata": {},
   "outputs": [
    {
     "name": "stdout",
     "output_type": "stream",
     "text": [
      "Left pin: {'tie'}\n",
      "Right pin: {'tie'}\n"
     ]
    }
   ],
   "source": [
    "# place launchpads\n",
    "lp_L = LaunchpadWirebond(\n",
    "    design, \n",
    "    'lpLeft', \n",
    "    options=lp_L_options\n",
    "    )\n",
    "\n",
    "lp_R = LaunchpadWirebond(\n",
    "    design, \n",
    "    'lpRight', \n",
    "    options=lp_R_options\n",
    "    )\n",
    "\n",
    "# show pin names\n",
    "print(f'Left pin: {lp_L.pin_names}\\nRight pin: {lp_R.pin_names}')"
   ]
  },
  {
   "cell_type": "code",
   "execution_count": 11,
   "metadata": {},
   "outputs": [
    {
     "data": {
      "text/html": [
       "\n",
       "    <h1 style=\"\n",
       "        background: #12c2e9;  /* fallback for old browsers */\n",
       "        background: -webkit-linear-gradient(to right, #d4418e 0%, #0652c5 74%);  /* Chrome 10-25, Safari 5.1-6 */\n",
       "        background: linear-gradient(315deg, #d4418e 0%, #0652c5 74%); /* W3C, IE 10+/ Edge, Firefox 16+, Chrome 26+, Opera 12+, Safari 7+ */\n",
       "        margin-top: 50px;\n",
       "        border-style: outset;\n",
       "        padding-top:100px;\n",
       "        padding-bottom:50px;\n",
       "        padding-left:25px;\n",
       "        color: white;\n",
       "    \"> Meanders <h1>\n",
       "        "
      ],
      "text/plain": [
       "<IPython.core.display.HTML object>"
      ]
     },
     "metadata": {},
     "output_type": "display_data"
    }
   ],
   "source": [
    "%metal_heading Meanders"
   ]
  },
  {
   "cell_type": "code",
   "execution_count": 12,
   "metadata": {},
   "outputs": [
    {
     "name": "stdout",
     "output_type": "stream",
     "text": [
      "-------- Wavelength calculations --------\n",
      "-----------------------------------------\n",
      "5.0 GHz (quarter-wavelength): 6.101539 mm\n",
      "5.5 GHz (quarter-wavelength): 5.546854 mm\n",
      "6.0 GHz (quarter-wavelength): 5.084616 mm\n",
      "6.5 GHz (quarter-wavelength): 4.693492 mm\n",
      "7.0 GHz (quarter-wavelength): 4.358242 mm\n",
      "-----------------------------------------\n"
     ]
    }
   ],
   "source": [
    "from qiskit_metal.analyses import cpw_calculations\n",
    "\n",
    "w = 10*10**-6       # width\n",
    "g = 4.667*10**-6    # gap\n",
    "st = 530*10**-6     # substrate thickness\n",
    "ft = 200*10**-9     # film thickness\n",
    "\n",
    "# can use length calculator to calculate length of resonator for desired resonance frequency\n",
    "four_ghz = cpw_calculations.guided_wavelength(\n",
    "    freq=5*10**9,  \n",
    "    line_width=w, \n",
    "    line_gap=g, \n",
    "    substrate_thickness=st, \n",
    "    film_thickness=ft\n",
    "    )\n",
    "\n",
    "five_ghz = cpw_calculations.guided_wavelength(\n",
    "    freq=5.5*10**9,  \n",
    "    line_width=w, \n",
    "    line_gap=g, \n",
    "    substrate_thickness=st, \n",
    "    film_thickness=ft\n",
    "    )\n",
    "\n",
    "six_ghz = cpw_calculations.guided_wavelength(\n",
    "    freq=6*10**9,  \n",
    "    line_width=w, \n",
    "    line_gap=g, \n",
    "    substrate_thickness=st, \n",
    "    film_thickness=ft\n",
    "    )\n",
    "\n",
    "seven_ghz = cpw_calculations.guided_wavelength(\n",
    "    freq=6.5*10**9,  \n",
    "    line_width=w, \n",
    "    line_gap=g, \n",
    "    substrate_thickness=st, \n",
    "    film_thickness=ft\n",
    "    )\n",
    "\n",
    "eight_ghz = cpw_calculations.guided_wavelength(\n",
    "    freq=7*10**9,  \n",
    "    line_width=w, \n",
    "    line_gap=g, \n",
    "    substrate_thickness=st, \n",
    "    film_thickness=ft\n",
    "    )\n",
    "\n",
    "print('-------- Wavelength calculations --------')\n",
    "print('-----------------------------------------')\n",
    "print(f'5.0 GHz (quarter-wavelength): {four_ghz[0]/4*10**3:4f} mm')\n",
    "print(f'5.5 GHz (quarter-wavelength): {five_ghz[0]/4*10**3:4f} mm')\n",
    "print(f'6.0 GHz (quarter-wavelength): {six_ghz[0]/4*10**3:4f} mm')\n",
    "print(f'6.5 GHz (quarter-wavelength): {seven_ghz[0]/4*10**3:4f} mm')\n",
    "print(f'7.0 GHz (quarter-wavelength): {eight_ghz[0]/4*10**3:4f} mm')\n",
    "print('-----------------------------------------')\n",
    "\n",
    "# can also use kappa_calculation to calculate crosstalk"
   ]
  },
  {
   "cell_type": "code",
   "execution_count": 13,
   "metadata": {},
   "outputs": [],
   "source": [
    "# OPTIONS\n",
    "# set start, end, resonator options that can be used for all resonators\n",
    "\n",
    "tl_y = '1000um' # transmission line y value\n",
    "res_y = '950um'\n",
    "\n",
    "# START\n",
    "start_ops = Dict(\n",
    "    pos_y=res_y,\n",
    "    width=width,\n",
    "    gap=gap,\n",
    "    termination_gap='10um',\n",
    "    orientation='180'\n",
    ") \n",
    "\n",
    "# END\n",
    "end_ops = Dict(\n",
    "    width=width,\n",
    "    gap=gap,\n",
    "    termination_gap='0um',\n",
    "    orientation='-90'\n",
    ")\n",
    "\n",
    "# MEANDER\n",
    "res_ops = Dict(\n",
    "    trace_width='10um',\n",
    "    trace_gap='4.667um',\n",
    "    fillet='99um',\n",
    "    start_straight='1um',\n",
    "    meander = Dict(\n",
    "        spacing='200um'\n",
    "    )\n",
    ")"
   ]
  },
  {
   "cell_type": "code",
   "execution_count": 14,
   "metadata": {},
   "outputs": [
    {
     "name": "stdout",
     "output_type": "stream",
     "text": [
      "Resonator 1 pin names: {'end', 'start'}\n"
     ]
    }
   ],
   "source": [
    "# resonator 1\n",
    "r1_start = OpenToGround(\n",
    "    design, \n",
    "    'r1_start', \n",
    "    options=Dict(\n",
    "        pos_x='-1800um', \n",
    "        **start_ops\n",
    "    )\n",
    ")\n",
    "\n",
    "r1_end = OpenToGround(\n",
    "    design, \n",
    "    'r1_end', \n",
    "    options=Dict(\n",
    "        pos_x='-1800um',\n",
    "        pos_y='-1000um', \n",
    "        **end_ops\n",
    "    )\n",
    ")\n",
    "\n",
    "r1 = RouteMeander(\n",
    "    design, \n",
    "    'r1', \n",
    "    options=Dict(\n",
    "        # hfss_wire_bonds = True,\n",
    "        pin_inputs=Dict(\n",
    "            start_pin=Dict(\n",
    "                component='r1_start',\n",
    "                pin='open'\n",
    "            ),\n",
    "            end_pin=Dict(\n",
    "                component='r1_end',\n",
    "                pin='open'\n",
    "            )\n",
    "        ),\n",
    "        total_length='6.101463mm',\n",
    "        **res_ops\n",
    "    )\n",
    ")\n",
    "\n",
    "# print pin names\n",
    "print(f'Resonator 1 pin names: {r1.pin_names}')"
   ]
  },
  {
   "cell_type": "code",
   "execution_count": 15,
   "metadata": {},
   "outputs": [
    {
     "name": "stdout",
     "output_type": "stream",
     "text": [
      "Resonator 2 pin names: {'end', 'start'}\n"
     ]
    }
   ],
   "source": [
    "# resonator 2\n",
    "\n",
    "r2_start = OpenToGround(\n",
    "    design, \n",
    "    'r2_start', \n",
    "    options=Dict(\n",
    "        pos_x='-900um', \n",
    "        **start_ops\n",
    "    )\n",
    ")\n",
    "\n",
    "r2_end = OpenToGround(\n",
    "    design, \n",
    "    'r2_end', \n",
    "    options=Dict(\n",
    "        pos_x='-900um',\n",
    "        pos_y='-1000um',  \n",
    "        **end_ops\n",
    "    )\n",
    ")\n",
    "\n",
    "r2 = RouteMeander(\n",
    "    design, \n",
    "    'r2', \n",
    "    options=Dict(\n",
    "        # hfss_wire_bonds = True,\n",
    "        pin_inputs=Dict(\n",
    "            start_pin=Dict(\n",
    "                component='r2_start',\n",
    "                pin='open'\n",
    "            ),\n",
    "            end_pin=Dict(\n",
    "                component='r2_end',\n",
    "                pin='open'\n",
    "            )\n",
    "        ),\n",
    "        total_length='5.546785mm',\n",
    "        **res_ops\n",
    "    )\n",
    ")\n",
    "\n",
    "# print pin names\n",
    "print(f'Resonator 2 pin names: {r2.pin_names}')"
   ]
  },
  {
   "cell_type": "code",
   "execution_count": 16,
   "metadata": {},
   "outputs": [
    {
     "name": "stdout",
     "output_type": "stream",
     "text": [
      "Resonator 3 pin names: {'end', 'start'}\n"
     ]
    }
   ],
   "source": [
    "# resonator 3\n",
    "\n",
    "r3_start = OpenToGround(\n",
    "    design, \n",
    "    'r3_start', \n",
    "    options=Dict(\n",
    "        pos_x='0um',  \n",
    "        **start_ops\n",
    "    )\n",
    ")\n",
    "\n",
    "r3_end = OpenToGround(\n",
    "    design, \n",
    "    'r3_end', \n",
    "    options=Dict(\n",
    "        pos_x='0um',\n",
    "        pos_y='-800um',  \n",
    "        **end_ops\n",
    "    )\n",
    ")\n",
    "\n",
    "r3 = RouteMeander(\n",
    "    design, \n",
    "    'r3', \n",
    "    options=Dict(\n",
    "        # hfss_wire_bonds = True,\n",
    "        pin_inputs=Dict(\n",
    "            start_pin=Dict(\n",
    "                component='r3_start',\n",
    "                pin='open'\n",
    "            ),\n",
    "            end_pin=Dict(\n",
    "                component='r3_end',\n",
    "                pin='open'\n",
    "            )\n",
    "        ),\n",
    "        total_length='5.084553mm',\n",
    "        **res_ops\n",
    "    )\n",
    ")\n",
    "\n",
    "# print pin names\n",
    "print(f'Resonator 3 pin names: {r3.pin_names}')"
   ]
  },
  {
   "cell_type": "code",
   "execution_count": 17,
   "metadata": {},
   "outputs": [
    {
     "name": "stdout",
     "output_type": "stream",
     "text": [
      "Resonator 4 pin names: {'end', 'start'}\n"
     ]
    }
   ],
   "source": [
    "# resonator 4\n",
    "\n",
    "r4_start = OpenToGround(\n",
    "    design, \n",
    "    'r4_start', \n",
    "    options=Dict(\n",
    "        pos_x='900um', \n",
    "        **start_ops\n",
    "    )\n",
    ")\n",
    "\n",
    "r4_end = OpenToGround(\n",
    "    design, \n",
    "    'r4_end', \n",
    "    options=Dict(\n",
    "        pos_x='900um',\n",
    "        pos_y='-600um', \n",
    "        **end_ops\n",
    "    )\n",
    ")\n",
    "\n",
    "r4 = RouteMeander(\n",
    "    design, \n",
    "    'r4', \n",
    "    options=Dict(\n",
    "        # hfss_wire_bonds = True,\n",
    "        pin_inputs=Dict(\n",
    "            start_pin=Dict(\n",
    "                component='r4_start',\n",
    "                pin='open'\n",
    "            ),\n",
    "            end_pin=Dict(\n",
    "                component='r4_end',\n",
    "                pin='open'\n",
    "            )\n",
    "        ),\n",
    "        total_length='4.693433mm',\n",
    "        **res_ops\n",
    "    )\n",
    ")\n",
    "\n",
    "# print pin names\n",
    "print(f'Resonator 4 pin names: {r4.pin_names}')"
   ]
  },
  {
   "cell_type": "code",
   "execution_count": 18,
   "metadata": {},
   "outputs": [
    {
     "name": "stdout",
     "output_type": "stream",
     "text": [
      "Resonator 5 pin names: {'end', 'start'}\n"
     ]
    }
   ],
   "source": [
    "# resonator 5\n",
    "\n",
    "r5_start = OpenToGround(\n",
    "    design, \n",
    "    'r5_start', \n",
    "    options=Dict(\n",
    "        pos_x='1800um', \n",
    "        **start_ops\n",
    "    )\n",
    ")\n",
    "\n",
    "r5_end = OpenToGround(\n",
    "    design, \n",
    "    'r5_end', \n",
    "    options=Dict(\n",
    "        pos_x='1800um',\n",
    "        pos_y='-600um', \n",
    "        **end_ops\n",
    "    )\n",
    ")\n",
    "\n",
    "r5 = RouteMeander(\n",
    "    design, \n",
    "    'r5', \n",
    "    options=Dict(\n",
    "        # hfss_wire_bonds = True,\n",
    "        pin_inputs=Dict(\n",
    "            start_pin=Dict(\n",
    "                component='r5_start',\n",
    "                pin='open'\n",
    "            ),\n",
    "            end_pin=Dict(\n",
    "                component='r5_end',\n",
    "                pin='open'\n",
    "            )\n",
    "        ),\n",
    "        total_length='4.358188mm',\n",
    "        **res_ops\n",
    "    )\n",
    ")\n",
    "\n",
    "# print pin names\n",
    "print(f'Resonator 5 pin names: {r5.pin_names}')"
   ]
  },
  {
   "cell_type": "code",
   "execution_count": 19,
   "metadata": {},
   "outputs": [
    {
     "data": {
      "text/html": [
       "\n",
       "    <h1 style=\"\n",
       "        background: #12c2e9;  /* fallback for old browsers */\n",
       "        background: -webkit-linear-gradient(to right, #d4418e 0%, #0652c5 74%);  /* Chrome 10-25, Safari 5.1-6 */\n",
       "        background: linear-gradient(315deg, #d4418e 0%, #0652c5 74%); /* W3C, IE 10+/ Edge, Firefox 16+, Chrome 26+, Opera 12+, Safari 7+ */\n",
       "        margin-top: 50px;\n",
       "        border-style: outset;\n",
       "        padding-top:100px;\n",
       "        padding-bottom:50px;\n",
       "        padding-left:25px;\n",
       "        color: white;\n",
       "    \"> Transmission line <h1>\n",
       "        "
      ],
      "text/plain": [
       "<IPython.core.display.HTML object>"
      ]
     },
     "metadata": {},
     "output_type": "display_data"
    }
   ],
   "source": [
    "%metal_heading Transmission line"
   ]
  },
  {
   "cell_type": "code",
   "execution_count": 20,
   "metadata": {},
   "outputs": [
    {
     "name": "stdout",
     "output_type": "stream",
     "text": [
      "Transmission line pin names (for excitation in ANSYS): {'end', 'start'}\n"
     ]
    }
   ],
   "source": [
    "# set transmission line options\n",
    "\n",
    "straight_length = '70um'\n",
    "\n",
    "tl_options = Dict(\n",
    "    # hfss_wire_bonds = True,\n",
    "    pin_inputs = Dict(\n",
    "        start_pin = Dict(component='lpLeft', pin='tie'),\n",
    "        end_pin = Dict(component='lpRight', pin='tie')\n",
    "    ),\n",
    "    anchors=Dict(\n",
    "        anchor_tl=('0um','1000um')\n",
    "    ),\n",
    "    lead = Dict(\n",
    "        start_straight=straight_length,\n",
    "        end_straight=straight_length\n",
    "    ),\n",
    "    fillet = '69um',\n",
    "    advanced = Dict(avoid_collision='true'),\n",
    "    trace_width=width,\n",
    "    trace_gap=gap\n",
    ")\n",
    "\n",
    "# draw transmission line\n",
    "tl = RouteAnchors(\n",
    "    design, \n",
    "    'tl', \n",
    "    options=tl_options\n",
    ")\n",
    "\n",
    "# print transmission line pin names\n",
    "print(f'Transmission line pin names (for excitation in ANSYS): {tl.pin_names}')\n",
    "\n",
    "gui.rebuild()"
   ]
  }
 ],
 "metadata": {
  "kernelspec": {
   "display_name": "gmsh_development",
   "language": "python",
   "name": "python3"
  },
  "language_info": {
   "codemirror_mode": {
    "name": "ipython",
    "version": 3
   },
   "file_extension": ".py",
   "mimetype": "text/x-python",
   "name": "python",
   "nbconvert_exporter": "python",
   "pygments_lexer": "ipython3",
   "version": "3.11.10"
  },
  "orig_nbformat": 4
 },
 "nbformat": 4,
 "nbformat_minor": 2
}
