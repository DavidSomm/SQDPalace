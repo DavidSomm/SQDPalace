{
 "cells": [
  {
   "cell_type": "markdown",
   "metadata": {},
   "source": [
    "# Design"
   ]
  },
  {
   "cell_type": "code",
   "execution_count": null,
   "metadata": {},
   "outputs": [],
   "source": [
    "%load_ext autoreload\n",
    "%autoreload 2\n",
    "\n",
    "from qiskit_metal.qlibrary.qubits.transmon_pocket import TransmonPocket\n",
    "from qiskit_metal.qlibrary.terminations.open_to_ground import OpenToGround\n",
    "from qiskit_metal.qlibrary.tlines.meandered import RouteMeander\n",
    "import qiskit_metal as metal\n",
    "from qiskit_metal import designs, draw\n",
    "from qiskit_metal import MetalGUI, Dict, Headings\n",
    "import pyEPR as epr\n",
    "\n",
    "design = designs.DesignPlanar({}, True)\n",
    "design.chips.main.size['size_x'] = '3mm'\n",
    "design.chips.main.size['size_y'] = '2.4mm'\n",
    "design.chips.main.size.center_x = '0.5mm'\n",
    "design.chips.main.size.center_y = '0mm'\n",
    "\n",
    "gui = MetalGUI(design)\n",
    "\n",
    "design.delete_all_components()\n",
    "\n",
    "q1 = TransmonPocket(design, 'Q1', options = dict(\n",
    "    pad_width = '425 um', \n",
    "    pocket_height = '625um',\n",
    "    pocket_width = '500um',\n",
    "    orientation = 0,\n",
    "    hfss_inductance ='14nH',\n",
    "    connection_pads=dict(\n",
    "        readout = dict(loc_W=+1,loc_H=+1, pad_width='200um')\n",
    "    )))\n",
    "otg = OpenToGround(design, 'open_to_ground', options=dict(pos_x='1.75mm',  pos_y='0um', orientation='0'))\n",
    "readout = RouteMeander(design, 'readout',  Dict(\n",
    "            total_length='6 mm',\n",
    "            hfss_wire_bonds = True,\n",
    "            fillet='90 um',\n",
    "            lead = dict(start_straight='100um'),\n",
    "            pin_inputs=Dict(\n",
    "                start_pin=Dict(component='Q1', pin='readout'),\n",
    "                end_pin=Dict(component='open_to_ground', pin='open')), ))\n",
    "\n",
    "gui.rebuild()\n",
    "gui.autoscale()"
   ]
  },
  {
   "cell_type": "markdown",
   "metadata": {},
   "source": [
    "# Eigenmode Simulation"
   ]
  },
  {
   "cell_type": "code",
   "execution_count": 4,
   "metadata": {},
   "outputs": [
    {
     "name": "stdout",
     "output_type": "stream",
     "text": [
      "Creating geometry for Eigenmode Simulation.\n",
      "No ports for processing.\n",
      "<class 'float'>\n",
      "Geometry successfully built in Gmsh.\n",
      "Finely meshing surfaces: [7]\n",
      "Mesh successfully built in Gmsh.\n",
      "Directory 'eigen_epr_wide_cap' created at 'C:\\PALACE_Simulations\\eigen_epr_wide_cap'.\n",
      "Simulation files created.\n"
     ]
    }
   ],
   "source": [
    "from PALACE_Simulation import PALACE_Simulation\n",
    "\n",
    "#Eigenmode Simulation Options\n",
    "eigen_user_options = {\n",
    "            \"mesh_refinement\":  0,                                         #refines mesh in PALACE - essetially divides every mesh element in half\n",
    "            \"dielectric_material\": \"silicon\",                              #choose dielectric material - 'silicon' or 'sapphire'\n",
    "            \"starting_freq\": 4.5,                                          #starting frequency in GHz \n",
    "            \"number_of_freqs\": 3,                                          #number of eigenmodes to find\n",
    "            \"solns_to_save\": 3,                                            #number of electromagnetic field visualizations to save\n",
    "            \"solver_order\": 2,                                             #increasing solver order increases accuracy of simulation, but significantly increases sim time\n",
    "            \"solver_tol\": 1.0e-8,                                          #error residual tolerance foriterative solver\n",
    "            \"solver_maxits\": 100,                                          #number of solver iterations\n",
    "            \"mesh_max\": 170e-3,                                            #maxiumum element size for the mesh in mm\n",
    "            \"mesh_min\": 6e-3,                                             #minimum element size for the mesh in mm\n",
    "            \"mesh_sampling\": 150,                                          #number of points to mesh along a geometry\n",
    "            \"sim_directory\": 'C:\\\\PALACE_Simulations\\\\'                    #parent directory where all simulation files will be saved\n",
    "}\n",
    "\n",
    "HPC_options = {\n",
    "            \"hpc_nodes\": '3',\n",
    "            \"cpus_per_node\": '25',\n",
    "            \"sim_time\": '3:30:00',\n",
    "            \"sim_memory\": '250G',\n",
    "            \"account_name\": 'a_fedorov',\n",
    "            \"palace_location\": '/scratch/project/palace-sqdlab/Palace-Project-NEW/palace/build_v0.12/bin/palace-x86_64.bin',\n",
    "            \"input_files_location\": '/scratch/project/palace-sqdlab/inputFiles/',\n",
    "            \"output_files_location\": '/scratch/project/palace-sqdlab/outputFiles/'\n",
    "}\n",
    "\n",
    "sim = PALACE_Simulation('Eigenmode', 'eigen_epr_wide_cap', design, eigen_user_options, ports = [], hpc_options = HPC_options)\n",
    "sim.run_simulation()"
   ]
  },
  {
   "cell_type": "markdown",
   "metadata": {},
   "source": [
    "# Capacitance Simulation"
   ]
  },
  {
   "cell_type": "code",
   "execution_count": null,
   "metadata": {},
   "outputs": [
    {
     "name": "stdout",
     "output_type": "stream",
     "text": [
      "Creating geometry for Capacitance Simulation.\n",
      "No ports for processing.\n",
      "Geometry successfully built in Gmsh.\n",
      "Finely meshing surfaces: [7]\n",
      "Mesh successfully built in Gmsh.\n",
      "Directory 'cap_transmon_res' created at 'C:\\PALACE_Simulations\\cap_transmon_res'.\n",
      "Simulation files created.\n"
     ]
    }
   ],
   "source": [
    "from PALACE_Simulation import PALACE_Simulation\n",
    "\n",
    "#Eigenmode Simulation Options\n",
    "cap_user_options = {\n",
    "            \"mesh_refinement\":  0,                                         #refines mesh in PALACE - essetially divides every mesh element in half\n",
    "            \"dielectric_material\": \"silicon\",                              #choose dielectric material - 'silicon' or 'sapphire'\n",
    "            \"solns_to_save\": 2,                                            #number of electromagnetic field visualizations to save\n",
    "            \"solver_order\": 2,                                             #increasing solver order increases accuracy of simulation, but significantly increases sim time\n",
    "            \"solver_tol\": 1.0e-8,                                          #error residual tolerance foriterative solver\n",
    "            \"solver_maxits\": 100,                                          #number of solver iterations\n",
    "            \"mesh_max\": 160e-3,                                            #maxiumum element size for the mesh in mm\n",
    "            \"mesh_min\": 10e-3,                                             #minimum element size for the mesh in mm\n",
    "            \"mesh_sampling\": 120,                                          #number of points to mesh along a geometry\n",
    "            \"sim_directory\": 'C:\\\\PALACE_Simulations\\\\'                    #parent directory where all simulation files will be saved\n",
    "}\n",
    "\n",
    "HPC_options = {\n",
    "            \"hpc_nodes\": '3',\n",
    "            \"cpus_per_node\": '20',\n",
    "            \"sim_time\": '2:00:00',\n",
    "            \"sim_memory\": '250G',\n",
    "            \"account_name\": 'a_fedorov',\n",
    "            \"palace_location\": '/scratch/project/palace-sqdlab/Palace-Project-NEW/palace/build_v0.12/bin/palace-x86_64.bin',\n",
    "            \"input_files_location\": '/scratch/project/palace-sqdlab/inputFiles/',\n",
    "            \"output_files_location\": '/scratch/project/palace-sqdlab/outputFiles/'\n",
    "}\n",
    "\n",
    "sim = PALACE_Simulation('Capacitance', 'cap_transmon_res', design, cap_user_options, ports = [], hpc_options = HPC_options)\n",
    "sim.run_simulation()"
   ]
  },
  {
   "cell_type": "code",
   "execution_count": 3,
   "metadata": {},
   "outputs": [],
   "source": [
    "import gmsh\n",
    "gmsh.fltk.run()"
   ]
  }
 ],
 "metadata": {
  "kernelspec": {
   "display_name": "gmsh_development",
   "language": "python",
   "name": "python3"
  },
  "language_info": {
   "codemirror_mode": {
    "name": "ipython",
    "version": 3
   },
   "file_extension": ".py",
   "mimetype": "text/x-python",
   "name": "python",
   "nbconvert_exporter": "python",
   "pygments_lexer": "ipython3",
   "version": "3.11.10"
  }
 },
 "nbformat": 4,
 "nbformat_minor": 2
}
