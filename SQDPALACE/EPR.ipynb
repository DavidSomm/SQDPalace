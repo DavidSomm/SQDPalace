{
 "cells": [
  {
   "cell_type": "markdown",
   "metadata": {},
   "source": [
    "# Energy Participation"
   ]
  },
  {
   "cell_type": "code",
   "execution_count": 4,
   "metadata": {},
   "outputs": [
    {
     "ename": "NameError",
     "evalue": "name 'disp_shift_qubit' is not defined",
     "output_type": "error",
     "traceback": [
      "\u001b[1;31m---------------------------------------------------------------------------\u001b[0m",
      "\u001b[1;31mNameError\u001b[0m                                 Traceback (most recent call last)",
      "Cell \u001b[1;32mIn[4], line 75\u001b[0m\n\u001b[0;32m     72\u001b[0m delta \u001b[38;5;241m=\u001b[39m ((linear_res_freq \u001b[38;5;241m-\u001b[39m anharm_res\u001b[38;5;241m/\u001b[39m(\u001b[38;5;241m2\u001b[39m\u001b[38;5;241m*\u001b[39mnp\u001b[38;5;241m.\u001b[39mpi)) \u001b[38;5;241m-\u001b[39m (linear_qubit_freq \u001b[38;5;241m-\u001b[39m anharm_qubit\u001b[38;5;241m/\u001b[39m(\u001b[38;5;241m2\u001b[39m\u001b[38;5;241m*\u001b[39mnp\u001b[38;5;241m.\u001b[39mpi)))\n\u001b[0;32m     74\u001b[0m \u001b[38;5;66;03m#resonator-qubit coupling strength (g)\u001b[39;00m\n\u001b[1;32m---> 75\u001b[0m g \u001b[38;5;241m=\u001b[39m np\u001b[38;5;241m.\u001b[39msqrt(\u001b[43mdisp_shift_qubit\u001b[49m \u001b[38;5;241m*\u001b[39m delta  \u001b[38;5;241m*\u001b[39m (\u001b[38;5;241m1\u001b[39m \u001b[38;5;241m+\u001b[39m delta\u001b[38;5;241m/\u001b[39manharm_qubit))\n\u001b[0;32m     77\u001b[0m \u001b[38;5;66;03m#for comparison with cross kerr (Krantz et al. (2021) p42)\u001b[39;00m\n\u001b[0;32m     78\u001b[0m chi_test \u001b[38;5;241m=\u001b[39m (g\u001b[38;5;241m*\u001b[39m\u001b[38;5;241m*\u001b[39m\u001b[38;5;241m2\u001b[39m \u001b[38;5;241m/\u001b[39m delta) \u001b[38;5;241m*\u001b[39m (\u001b[38;5;241m1\u001b[39m \u001b[38;5;241m/\u001b[39m (\u001b[38;5;241m1\u001b[39m \u001b[38;5;241m+\u001b[39m delta\u001b[38;5;241m/\u001b[39m(anharm_qubit)))\n",
      "\u001b[1;31mNameError\u001b[0m: name 'disp_shift_qubit' is not defined"
     ]
    }
   ],
   "source": [
    "####################\n",
    "##   PARAMETERS   ##\n",
    "####################\n",
    "\n",
    "import numpy as np\n",
    "\n",
    "#Constants used for calculations\n",
    "e = 1.60218e-19\n",
    "hbar = 1.05457e-34\n",
    "phi0 = hbar/(2*e)\n",
    "\n",
    "#Josephson Energy (Ej) and linear inductance (Lj)\n",
    "\n",
    "delta_super = (1.8e-4 / 2) * e\n",
    "#Ej = (0.5 * delta_super * hbar * 2 * np.pi) / ((2*e)**2 * 4444) #value for designed Ej = 8.41 GHz Rn = 8345, Divita test = 4444 Ohm\n",
    "#Ej_ghz = 15.8251e9\n",
    "#Ej = 2 * np.pi * hbar * Ej_ghz \n",
    "#Lj = phi0**2 / Ej\n",
    "Lj = 14e-9 \n",
    "Ej = phi0**2 / Lj\n",
    "\n",
    "#Enter in Participation Ratio from Simulation\n",
    "P_qubit = 0.9926 #0.9926\n",
    "P_cav = 0.0031 #0.002287\n",
    "\n",
    "#Qiskit_EPR for transmon and resonator P_qubit = 0.9915, P_resonator = 0.002273, qubit_freq = 6.22071e9, res_freq = 9.4382e9, Lj = 10.00e-9\n",
    "#Qiskit_EPR for transmon and resonator (Strong meshing/higher order) P_qubit = 0.99088, P_resonator = 0.0024975, qubit_freq = 6.45729e9, res_freq = 9.50827e9, Lj = 10.00e-9\n",
    "#Divita Device Q4 P_qubit = 0.9926, P_resonator = 0.002287, qubit_freq = 6.0714e9, res_freq = 7.5651e9, Lj = 10.345e-9 \n",
    "\n",
    "#Normalize Participation Ratios\n",
    "P_qubit_normalised = P_qubit / (P_qubit + P_cav)\n",
    "P_cav_normalised = P_cav / (P_qubit + P_cav)\n",
    "\n",
    "#Enter in Frequencies from Simulation\n",
    "linear_qubit_freq = 6.358e9\n",
    "linear_res_freq = 9.484e9\n",
    "omega_qubit = 2 * np.pi * linear_qubit_freq\n",
    "omega_res = 2 * np.pi * linear_res_freq\n",
    "\n",
    "####################\n",
    "##  CALCULATIONS  ##\n",
    "####################\n",
    "\n",
    "#phi zero-point fluctuations for qubit\n",
    "phi_zpf_sq = P_qubit * hbar * 2 * omega_qubit  / (2*Ej)\n",
    "\n",
    "#anharmonicity qubit (self kerr)\n",
    "anharm_qubit = P_qubit**2 * hbar * omega_qubit**2 / (8*Ej)\n",
    "\n",
    "#anharmonicity resonator (self kerr)\n",
    "anharm_res = P_cav**2 * hbar * omega_res**2 / (8*Ej)\n",
    "\n",
    "#Charging Energy (Ec)\n",
    "Ec = anharm_qubit * hbar\n",
    "\n",
    "#Total Capacitance\n",
    "C_total = e**2 / (2*Ec)\n",
    "\n",
    "#cross kerr - dispersive shit (chi)\n",
    "cross_kerr = (P_qubit * P_cav * hbar * omega_qubit * omega_res) / (4*Ej)\n",
    "\n",
    "#lamb-shift of qubit frequency\n",
    "lamb_shift_qubit = anharm_qubit - cross_kerr/2\n",
    "\n",
    "#lamb-shift of res frequency\n",
    "lamb_shift_res = anharm_res - cross_kerr/2\n",
    "\n",
    "#qubit frequency using standard formula (check if calculated frequency makes sense)\n",
    "qubit_freq_test = (np.sqrt(8*Ej * Ec) - Ec)/ hbar\n",
    "\n",
    "#detuning, delta\n",
    "delta = ((linear_res_freq - anharm_res/(2*np.pi)) - (linear_qubit_freq - anharm_qubit/(2*np.pi)))\n",
    "\n",
    "#resonator-qubit coupling strength (g)\n",
    "g = np.sqrt(disp_shift_qubit * delta  * (1 + delta/anharm_qubit))\n",
    "\n",
    "#for comparison with cross kerr (Krantz et al. (2021) p42)\n",
    "chi_test = (g**2 / delta) * (1 / (1 + delta/(anharm_qubit)))\n",
    "\n",
    "#test for Ec/Anharmonicity using omega_qubit = sqrt(8 * Ec * Ej)/hbar\n",
    "Ec_test = (omega_qubit * hbar)**2 / (8*Ej)\n",
    "anharm_qubit_test = Ec_test/(hbar*2*np.pi*1e6)\n",
    "\n",
    "#critical photon number\n",
    "nc = delta**2 / (4*g**2)\n",
    "\n",
    "#print values\n",
    "print('--------------')\n",
    "print('|Calculations|')\n",
    "print('--------------')\n",
    "print('Ej:\\t\\t\\t\\t\\t', '%.4f' % (Ej / (hbar * 2 * np.pi *  1e9)), 'GHz', '\\t(' '%.4e' %  (Ej ), 'J)')\n",
    "print('Ec:\\t\\t\\t\\t\\t', '%.4f' % (anharm_qubit  / (2*np.pi*1e9)), 'GHz', '\\t(' '%.4e' %  (anharm_qubit*hbar), 'J)' )\n",
    "print('Lj:\\t\\t\\t\\t\\t', '%.4f' %  (Lj/1e-9), 'nH')\n",
    "print('Cj:\\t\\t\\t\\t\\t', '%.4f' %  (C_total/1e-15), 'fF')\n",
    "print('Participation Ratio Qubit:\\t\\t', '%.5f' % P_qubit, '\\t(Normalized =',  '%.5f' % P_qubit_normalised,')')\n",
    "print('Participation Ratio Cavity:\\t\\t', '%.5f' % P_cav, '\\t(Normalized =',  '%.5f' % P_cav_normalised,')')\n",
    "print('Linear Qubit Frequency:\\t\\t\\t', '%.4f' % (linear_qubit_freq/1e9), 'GHz')\n",
    "print('Linear Res Frequency:\\t\\t\\t', '%.4f' % (linear_res_freq/1e9), 'GHz')\n",
    "print('Qubit Anharmonicity (alpha_Q):\\t\\t', '%.4f' % (anharm_qubit / (2*np.pi*1e6)), 'MHz')\n",
    "print('Res Anharmonicity (alpha_R):\\t\\t', '%.4f' % (anharm_res / (2*np.pi*1e6)), 'MHz')\n",
    "print('Dispersive Shift (chi):\\t\\t\\t', '%.4f' % (cross_kerr/ (2*np.pi*1e6)), 'MHz')\n",
    "print('Qubit Frequency:\\t\\t\\t', '%.4f' % (linear_qubit_freq/1e9 - lamb_shift_qubit/(2*np.pi*1e9)), 'GHz')\n",
    "print('Res Frequency:\\t\\t\\t\\t', '%.4f' % (linear_res_freq/1e9 - lamb_shift_res/(2*np.pi*1e9)), 'GHz')\n",
    "print('Res-Qubit Coupling (g):\\t\\t\\t', '%.4f' % (g/(2*np.pi*1e6)), 'MHz')\n",
    "print('Detuning:\\t\\t\\t\\t', '%.4f' % (delta/1e9), 'GHz')\n",
    "print('Ej/Ec:\\t\\t\\t\\t\\t', '%.4f' % (Ej/Ec))\n",
    "print('Flux_ZPF_squared:\\t\\t\\t', '%.4f' % (phi_zpf_sq))\n",
    "print('Critical Photon Number:\\t\\t\\t', '%.4f' % (nc))\n"
   ]
  },
  {
   "cell_type": "code",
   "execution_count": 6,
   "metadata": {},
   "outputs": [
    {
     "data": {
      "text/plain": [
       "102.7052889872693"
      ]
     },
     "execution_count": 6,
     "metadata": {},
     "output_type": "execute_result"
    }
   ],
   "source": [
    "1.0830991660730458e-23/hbar /1e9"
   ]
  },
  {
   "cell_type": "code",
   "execution_count": 7,
   "metadata": {},
   "outputs": [
    {
     "data": {
      "text/plain": [
       "73.36092070519237"
      ]
     },
     "execution_count": 7,
     "metadata": {},
     "output_type": "execute_result"
    }
   ],
   "source": [
    "Ej/hbar / 1e9"
   ]
  },
  {
   "cell_type": "code",
   "execution_count": 65,
   "metadata": {},
   "outputs": [
    {
     "name": "stdout",
     "output_type": "stream",
     "text": [
      "3009.896550000001\n",
      "2.6403569357204875\n"
     ]
    },
    {
     "data": {
      "text/plain": [
       "291.61191173768555"
      ]
     },
     "execution_count": 65,
     "metadata": {},
     "output_type": "execute_result"
    }
   ],
   "source": [
    "alpha = (0.5 * Ej * phi_zpf_sq)/hbar\n",
    "print(alpha/(2*np.pi*1e6))\n",
    "print(chi_test/(2*np.pi*1e6))\n",
    "hbar/(2*e)\n",
    "E_charge = (omega_qubit * hbar)**2 / (8*Ej)\n",
    "E_charge/(hbar*2*np.pi*1e6)\n"
   ]
  },
  {
   "cell_type": "code",
   "execution_count": 126,
   "metadata": {},
   "outputs": [
    {
     "data": {
      "text/plain": [
       "0.28687286146128693"
      ]
     },
     "execution_count": 126,
     "metadata": {},
     "output_type": "execute_result"
    }
   ],
   "source": [
    "np.sqrt(83.39**2 + 46.17**2)\n",
    "np.degrees(np.arctan(46.17/83.39))\n",
    "e**2 / (2*67.5224e-15) / (hbar*2*np.pi*1e9)\n"
   ]
  },
  {
   "cell_type": "code",
   "execution_count": 120,
   "metadata": {},
   "outputs": [
    {
     "data": {
      "text/plain": [
       "0.6302660313381315"
      ]
     },
     "execution_count": 120,
     "metadata": {},
     "output_type": "execute_result"
    }
   ],
   "source": [
    "e**2 / (61.4672e-15) / (hbar*2*np.pi*1e9)\n"
   ]
  },
  {
   "cell_type": "code",
   "execution_count": 112,
   "metadata": {},
   "outputs": [
    {
     "name": "stdout",
     "output_type": "stream",
     "text": [
      "5.739835434710902 GHz\n"
     ]
    }
   ],
   "source": [
    "EJ = 15.825e9 * 2*np.pi* hbar\n",
    "EC = 286.9e6 * 2*np.pi* hbar #315e6 designed\n",
    "qubit_frequency = ((np.sqrt(8*EJ*EC) - EC) / hbar) / (2*np.pi*1e9)\n",
    "print(qubit_frequency, 'GHz')"
   ]
  },
  {
   "cell_type": "code",
   "execution_count": 123,
   "metadata": {},
   "outputs": [
    {
     "data": {
      "text/plain": [
       "190.51666666666668"
      ]
     },
     "execution_count": 123,
     "metadata": {},
     "output_type": "execute_result"
    }
   ],
   "source": [
    "EJ/EC\n",
    "11431/60"
   ]
  },
  {
   "cell_type": "code",
   "execution_count": 130,
   "metadata": {},
   "outputs": [
    {
     "data": {
      "text/plain": [
       "0.0001197604790419154"
      ]
     },
     "execution_count": 130,
     "metadata": {},
     "output_type": "execute_result"
    }
   ],
   "source": [
    "(8.03 - 7.97) / 501"
   ]
  },
  {
   "cell_type": "code",
   "execution_count": 21,
   "metadata": {},
   "outputs": [
    {
     "data": {
      "text/plain": [
       "56548.66776461628"
      ]
     },
     "execution_count": 21,
     "metadata": {},
     "output_type": "execute_result"
    }
   ],
   "source": [
    "import numpy as np\n",
    "e = 1.60218e-19\n",
    "hbar = 1.05457e-34\n",
    "phi0 = hbar/(2*e)\n",
    "Lj = phi0/1e-8\n",
    "Ej = phi0**2 / Lj\n",
    "\n",
    "RN = hbar*2*np.pi* (180e-6*e) / (2 * Ej * 2*e**2)\n",
    "RN"
   ]
  },
  {
   "cell_type": "code",
   "execution_count": 19,
   "metadata": {},
   "outputs": [
    {
     "data": {
      "text/plain": [
       "3.2910471981924628e-09"
      ]
     },
     "execution_count": 19,
     "metadata": {},
     "output_type": "execute_result"
    }
   ],
   "source": [
    "Lj = phi0/1e-7\n",
    "Lj"
   ]
  },
  {
   "cell_type": "code",
   "execution_count": 1,
   "metadata": {},
   "outputs": [
    {
     "data": {
      "text/plain": [
       "149.95"
      ]
     },
     "execution_count": 1,
     "metadata": {},
     "output_type": "execute_result"
    }
   ],
   "source": [
    "8997/60"
   ]
  }
 ],
 "metadata": {
  "kernelspec": {
   "display_name": "gmsh_development",
   "language": "python",
   "name": "python3"
  },
  "language_info": {
   "codemirror_mode": {
    "name": "ipython",
    "version": 3
   },
   "file_extension": ".py",
   "mimetype": "text/x-python",
   "name": "python",
   "nbconvert_exporter": "python",
   "pygments_lexer": "ipython3",
   "version": "3.11.10"
  }
 },
 "nbformat": 4,
 "nbformat_minor": 2
}
